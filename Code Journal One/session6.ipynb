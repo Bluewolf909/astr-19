{
 "cells": [
  {
   "cell_type": "code",
   "execution_count": 10,
   "id": "2acf6fc2-da79-4091-ba03-b2c814b38892",
   "metadata": {},
   "outputs": [],
   "source": [
    "import numpy as np"
   ]
  },
  {
   "cell_type": "markdown",
   "id": "9502980a-e2e0-464f-a5a0-fa20aa89701f",
   "metadata": {},
   "source": [
    "#### returns sin(x)"
   ]
  },
  {
   "cell_type": "code",
   "execution_count": 17,
   "id": "54d13dcf-57b6-40cd-bc72-baea14a185d0",
   "metadata": {},
   "outputs": [],
   "source": [
    "def sinX(x):\n",
    "    return np.sin(x)"
   ]
  },
  {
   "cell_type": "markdown",
   "id": "c6c0e086-fcec-47a1-a189-093f01c2f9f6",
   "metadata": {},
   "source": [
    "#### returns cos(x)\n"
   ]
  },
  {
   "cell_type": "code",
   "execution_count": 12,
   "id": "f46bb8a6-b49a-4f07-9e34-c7a85db366a2",
   "metadata": {},
   "outputs": [],
   "source": [
    "def cosX(x):\n",
    "    return np.cos(x)"
   ]
  },
  {
   "cell_type": "markdown",
   "id": "c5ee6b05-f01c-4724-9604-62de1c21dda2",
   "metadata": {},
   "source": [
    "#### tables the data"
   ]
  },
  {
   "cell_type": "code",
   "execution_count": 13,
   "id": "21383e0b-ca71-4096-a541-974035826ab0",
   "metadata": {},
   "outputs": [],
   "source": [
    "def table(x):\n",
    "    for i in range(len(x)):\n",
    "        print(f\"x: {x[i]:.20f}; sin(x): {sinX(x[i]):.20f}; cos(x): {cosX(x[i]):.20f}\")"
   ]
  },
  {
   "cell_type": "markdown",
   "id": "823dc2b6-89a6-46e7-bfbc-86b78e863700",
   "metadata": {},
   "source": [
    "#### creates x and calls table"
   ]
  },
  {
   "cell_type": "code",
   "execution_count": 14,
   "id": "04a8e41f-b9bb-43ce-a662-c9d223a4a0b3",
   "metadata": {},
   "outputs": [
    {
     "name": "stdout",
     "output_type": "stream",
     "text": [
      "x: 0.00000000000000000000; sin(x): 0.00000000000000000000; cos(x): 1.00000000000000000000\n",
      "x: 0.69813170079773179122; sin(x): 0.64278760968653925190; cos(x): 0.76604444311897801345\n",
      "x: 1.39626340159546358244; sin(x): 0.98480775301220802032; cos(x): 0.17364817766693041445\n",
      "x: 2.09439510239319526264; sin(x): 0.86602540378443870761; cos(x): -0.49999999999999977796\n",
      "x: 2.79252680319092716488; sin(x): 0.34202014332566887944; cos(x): -0.93969262078590831688\n",
      "x: 3.49065850398865906712; sin(x): -0.34202014332566865740; cos(x): -0.93969262078590842791\n",
      "x: 4.18879020478639052527; sin(x): -0.86602540378443848557; cos(x): -0.50000000000000044409\n",
      "x: 4.88692190558412242751; sin(x): -0.98480775301220813134; cos(x): 0.17364817766692997036\n",
      "x: 5.58505360638185432975; sin(x): -0.64278760968653958496; cos(x): 0.76604444311897779141\n",
      "x: 6.28318530717958623200; sin(x): -0.00000000000000024493; cos(x): 1.00000000000000000000\n"
     ]
    }
   ],
   "source": [
    "x = np.linspace(0, 2*np.pi, 10)\n",
    "\n",
    "table(x)"
   ]
  }
 ],
 "metadata": {
  "kernelspec": {
   "display_name": "Python 3 (ipykernel)",
   "language": "python",
   "name": "python3"
  },
  "language_info": {
   "codemirror_mode": {
    "name": "ipython",
    "version": 3
   },
   "file_extension": ".py",
   "mimetype": "text/x-python",
   "name": "python",
   "nbconvert_exporter": "python",
   "pygments_lexer": "ipython3",
   "version": "3.13.7"
  }
 },
 "nbformat": 4,
 "nbformat_minor": 5
}
