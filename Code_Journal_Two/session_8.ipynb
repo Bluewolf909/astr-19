{
 "cells": [
  {
   "cell_type": "code",
   "execution_count": null,
   "id": "979d8fd2-5742-441f-9340-2769a9beda69",
   "metadata": {},
   "outputs": [],
   "source": [
    "import matplotlib.pyplot as plt\n",
    "import numpy as np"
   ]
  },
  {
   "cell_type": "code",
   "execution_count": null,
   "id": "4c37f270-4c44-4c78-aee9-86db926c1bf5",
   "metadata": {},
   "outputs": [],
   "source": [
    "x = np.linspace(0,1,100)"
   ]
  },
  {
   "cell_type": "code",
   "execution_count": null,
   "id": "ddab63f7-51b0-4229-bada-a41ade6a9d62",
   "metadata": {},
   "outputs": [],
   "source": [
    "sin = np.sin(x)\n",
    "cos = np.cos(x)"
   ]
  },
  {
   "cell_type": "code",
   "execution_count": null,
   "id": "fb89fa24-fac7-4ed9-af9f-f039c85d327b",
   "metadata": {
    "scrolled": true
   },
   "outputs": [],
   "source": [
    "f, axarr = plt.subplots(1,2)\n",
    "\n",
    "axarr[0].plot(x,sin,color=\"lime\")\n",
    "axarr[0].set_xlabel('x')\n",
    "axarr[0].set_ylabel('sin(x)')\n",
    "axarr[0].set_title('sin(x) vs. x')\n",
    "\n",
    "axarr[1].plot(x,cos, color=\"gold\")\n",
    "axarr[1].set_xlabel('x')\n",
    "axarr[1].set_ylabel('cos(x)')\n",
    "axarr[1].set_title('cos(x) vs. x')\n",
    "\n",
    "f.subplots_adjust(wspace = 0.25)\n",
    "\n",
    "plt.savefig(\"session8.pdf\",facecolor=\"white\")"
   ]
  },
  {
   "cell_type": "code",
   "execution_count": null,
   "id": "443a45ce-1b94-40bf-add3-6dca3a514af1",
   "metadata": {},
   "outputs": [],
   "source": []
  }
 ],
 "metadata": {
  "kernelspec": {
   "display_name": "Python 3 (ipykernel)",
   "language": "python",
   "name": "python3"
  },
  "language_info": {
   "codemirror_mode": {
    "name": "ipython",
    "version": 3
   },
   "file_extension": ".py",
   "mimetype": "text/x-python",
   "name": "python",
   "nbconvert_exporter": "python",
   "pygments_lexer": "ipython3",
   "version": "3.13.7"
  }
 },
 "nbformat": 4,
 "nbformat_minor": 5
}
