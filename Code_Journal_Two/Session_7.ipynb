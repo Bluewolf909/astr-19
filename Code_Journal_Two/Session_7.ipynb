{
 "cells": [
  {
   "cell_type": "code",
   "execution_count": null,
   "id": "be1d02da-aff1-45cb-b446-ef30326bf8d3",
   "metadata": {},
   "outputs": [],
   "source": [
    "import matplotlib.pyplot as plt\n",
    "import numpy as np"
   ]
  },
  {
   "cell_type": "code",
   "execution_count": null,
   "id": "fa2d1ada-de79-493f-af35-62a48c3e19e3",
   "metadata": {},
   "outputs": [],
   "source": [
    "def exponential(x):\n",
    "    return np.exp(x)"
   ]
  },
  {
   "cell_type": "code",
   "execution_count": null,
   "id": "0029e76d-2254-40b6-85ec-0115c6369f56",
   "metadata": {},
   "outputs": [],
   "source": [
    "x = np.linspace(0,1,100)"
   ]
  },
  {
   "cell_type": "code",
   "execution_count": null,
   "id": "d72e5cec-b585-4e7e-a2d6-71aef145b471",
   "metadata": {},
   "outputs": [],
   "source": [
    "y = exponential(x)"
   ]
  },
  {
   "cell_type": "code",
   "execution_count": null,
   "id": "727e3787-ba4c-4d6a-892a-8a2d2b635039",
   "metadata": {},
   "outputs": [],
   "source": [
    "plt.plot(x,y)\n",
    "plt.xlabel('Time [milliseconds]')\n",
    "plt.ylabel('Awesomeness')\n",
    "plt.savefig('session7.pdf')"
   ]
  },
  {
   "cell_type": "code",
   "execution_count": null,
   "id": "93e50b27-bc49-44de-9c74-2772468346c4",
   "metadata": {},
   "outputs": [],
   "source": []
  }
 ],
 "metadata": {
  "kernelspec": {
   "display_name": "Python 3 (ipykernel)",
   "language": "python",
   "name": "python3"
  },
  "language_info": {
   "codemirror_mode": {
    "name": "ipython",
    "version": 3
   },
   "file_extension": ".py",
   "mimetype": "text/x-python",
   "name": "python",
   "nbconvert_exporter": "python",
   "pygments_lexer": "ipython3",
   "version": "3.13.7"
  }
 },
 "nbformat": 4,
 "nbformat_minor": 5
}
