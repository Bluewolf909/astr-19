{
 "cells": [
  {
   "cell_type": "code",
   "execution_count": null,
   "id": "0b0d126a-15c5-4002-b1a1-d7b073cef21a",
   "metadata": {},
   "outputs": [],
   "source": [
    "import numpy as np"
   ]
  },
  {
   "cell_type": "code",
   "execution_count": null,
   "id": "47a76625-bd23-4900-abd0-52aa0a49bfea",
   "metadata": {},
   "outputs": [],
   "source": [
    "import matplotlib.pyplot as plt"
   ]
  },
  {
   "cell_type": "code",
   "execution_count": null,
   "id": "0ed6daae-1448-4309-b2b0-9e6d655aa445",
   "metadata": {},
   "outputs": [],
   "source": [
    "x = np.random.rayleigh(1.0, 1000)\n",
    "\n",
    "xMin = np.floor(min(x))\n",
    "xMax = np.ceil(max(x)) + (1/100)\n",
    "\n",
    "b = np.arange(xMin, xMax,(1/100))\n",
    "\n",
    "plt.hist(x,bins=b)\n",
    "plt.ylabel(\"Count\")\n",
    "plt.xlabel(\"Value\")\n",
    "plt.savefig(\"session10.pdf\",facecolor=\"white\")"
   ]
  },
  {
   "cell_type": "code",
   "execution_count": null,
   "id": "79ce79ac-f801-469d-83dc-a6ec0a57e593",
   "metadata": {},
   "outputs": [],
   "source": []
  }
 ],
 "metadata": {
  "kernelspec": {
   "display_name": "Python 3 (ipykernel)",
   "language": "python",
   "name": "python3"
  },
  "language_info": {
   "codemirror_mode": {
    "name": "ipython",
    "version": 3
   },
   "file_extension": ".py",
   "mimetype": "text/x-python",
   "name": "python",
   "nbconvert_exporter": "python",
   "pygments_lexer": "ipython3",
   "version": "3.13.7"
  }
 },
 "nbformat": 4,
 "nbformat_minor": 5
}
